{
 "cells": [
  {
   "cell_type": "code",
   "execution_count": 3,
   "id": "17a5b078",
   "metadata": {},
   "outputs": [],
   "source": [
    "from selenium import webdriver\n",
    "from selenium.webdriver.common.by import By\n",
    "from selenium.webdriver.support.ui import WebDriverWait\n",
    "from selenium.webdriver.support import expected_conditions as EC\n",
    "import pandas as pd\n",
    "import time"
   ]
  },
  {
   "cell_type": "code",
   "execution_count": 4,
   "id": "49b717de",
   "metadata": {},
   "outputs": [],
   "source": [
    "# Initialize WebDriver\n",
    "driver = webdriver.Chrome()\n",
    "url = \"https://www.sunsirs.com/CommodityPrice.html\"\n",
    "driver.get(url)\n"
   ]
  },
  {
   "cell_type": "code",
   "execution_count": 5,
   "id": "f7000d0d",
   "metadata": {},
   "outputs": [
    {
     "name": "stdout",
     "output_type": "stream",
     "text": [
      "\n",
      "🔹 Merged Energy & Steel Prices Table\n",
      "   Industry                Product Latest Price     Change       Unit\n",
      "0    Energy              Commodity      Sectors      02-11      02-12\n",
      "1    Energy         Petroleum coke       Energy   2,737.50   2,850.00\n",
      "2    Energy               Fuel Oil       Energy   5,584.00   5,624.00\n",
      "3    Energy                 Diesel       Energy   6,978.60   6,996.00\n",
      "4    Energy                   Coke       Energy   1,660.00   1,660.00\n",
      "5    Energy                    LPG       Energy   4,930.00   4,930.00\n",
      "6    Energy           Thermal Coal       Energy     795.00     795.00\n",
      "7    Energy            Coking coal       Energy   1,537.25   1,537.25\n",
      "8    Energy               Gasoline       Energy   8,837.60   8,811.60\n",
      "9     Steel              Commodity      Sectors      02-11      02-12\n",
      "10    Steel      Cold rolled sheet        Steel   4,205.00   4,207.50\n",
      "11    Steel  Stainless Steel Plate        Steel  12,164.29  12,171.43\n",
      "12    Steel       Mild steel plate        Steel   3,362.00   3,362.00\n",
      "13    Steel          Seamless tube        Steel   4,202.50   4,202.50\n",
      "14    Steel     Color coated sheet        Steel   6,900.00   6,900.00\n",
      "15    Steel       Galvanized sheet        Steel   4,467.50   4,462.50\n",
      "16    Steel        Hot rolled coil        Steel   3,436.00   3,424.00\n",
      "17    Steel               Iron ore        Steel     829.22     824.00\n",
      "18    Steel                  Rebar        Steel   3,309.29   3,281.43\n",
      "19    Steel        Silicomanganese        Steel   6,660.00   6,460.00\n"
     ]
    }
   ],
   "source": [
    "def fetch_prices(industry, click_xpath, table_xpath):\n",
    "    \"\"\"Clicks on an industry tab and scrapes the related table.\"\"\"\n",
    "    try:\n",
    "        # Click the industry tab\n",
    "        WebDriverWait(driver, 20).until(\n",
    "            EC.element_to_be_clickable((By.XPATH, click_xpath))\n",
    "        ).click()\n",
    "        time.sleep(2)  # Allow time for content to load\n",
    "\n",
    "        # Wait for the table to be visible\n",
    "        WebDriverWait(driver, 20).until(\n",
    "            EC.presence_of_element_located((By.XPATH, table_xpath))\n",
    "        )\n",
    "\n",
    "        # Find the table\n",
    "        table = driver.find_element(By.XPATH, table_xpath)\n",
    "\n",
    "        # Extract rows\n",
    "        rows = table.find_elements(By.TAG_NAME, \"li\")  # Table rows are in `<li>`\n",
    "\n",
    "        # Extract data\n",
    "        data = []\n",
    "        for row in rows:\n",
    "            cols = row.text.strip().split(\"\\n\")  # Split text into columns\n",
    "            if len(cols) >= 4:  # Ensure valid row format\n",
    "                data.append([industry] + cols[:4])  # Include industry name\n",
    "\n",
    "        # Convert to DataFrame\n",
    "        df = pd.DataFrame(data, columns=[\"Industry\", \"Product\", \"Latest Price\", \"Change\", \"Unit\"])\n",
    "        return df\n",
    "\n",
    "    except Exception as e:\n",
    "        print(f\"⚠️ Error fetching {industry} data:\", e)\n",
    "        return pd.DataFrame()  # Return empty DataFrame if error\n",
    "\n",
    "# Define XPaths\n",
    "energy_click_xpath = \"//*[@id='zwd_body']/div[2]/div/div[2]/div[1]/div/div[2]/div[1]\"\n",
    "steel_click_xpath = \"//*[@id='zwd_body']/div[2]/div/div[2]/div[1]/div/div[2]/div[6]\"\n",
    "\n",
    "energy_table_xpath = \"//*[@id='zwd_body']/div[2]/div/div[2]/div[2]/div/div[3]/ul\"\n",
    "steel_table_xpath = \"//*[@id='zwd_body']/div[2]/div/div[2]/div[2]/div/div[3]/ul\"\n",
    "\n",
    "# Scrape Energy & Steel Data\n",
    "df_energy = fetch_prices(\"Energy\", energy_click_xpath, energy_table_xpath)\n",
    "df_steel = fetch_prices(\"Steel\", steel_click_xpath, steel_table_xpath)\n",
    "\n",
    "# Merge both tables\n",
    "df_merged = pd.concat([df_energy, df_steel], ignore_index=True)\n",
    "\n",
    "# Save to Excel\n",
    "merged_excel_path = r\"C:\\Users\\HP\\Downloads\\merged_prices.xlsx\"\n",
    "df_merged.to_excel(merged_excel_path, index=False, engine=\"openpyxl\")\n",
    "\n",
    "# Display Merged Table\n",
    "print(\"\\n🔹 Merged Energy & Steel Prices Table\")\n",
    "print(df_merged)\n",
    "\n",
    "# Close the browser\n",
    "driver.quit()\n"
   ]
  },
  {
   "cell_type": "code",
   "execution_count": null,
   "id": "fc7a2ee6",
   "metadata": {},
   "outputs": [],
   "source": []
  }
 ],
 "metadata": {
  "kernelspec": {
   "display_name": "Python 3 (ipykernel)",
   "language": "python",
   "name": "python3"
  },
  "language_info": {
   "codemirror_mode": {
    "name": "ipython",
    "version": 3
   },
   "file_extension": ".py",
   "mimetype": "text/x-python",
   "name": "python",
   "nbconvert_exporter": "python",
   "pygments_lexer": "ipython3",
   "version": "3.9.13"
  }
 },
 "nbformat": 4,
 "nbformat_minor": 5
}
